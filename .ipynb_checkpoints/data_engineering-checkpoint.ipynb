{
 "cells": [
  {
   "cell_type": "code",
   "execution_count": 6,
   "metadata": {},
   "outputs": [],
   "source": [
    "import os\n",
    "import pandas as pd\n",
    "import numpy as np\n",
    "import csv"
   ]
  },
  {
   "cell_type": "code",
   "execution_count": 21,
   "metadata": {},
   "outputs": [],
   "source": [
    "# csvpath = os.path.join(\"hawaii_stations.csv\")\n",
    "df = pd.read_csv(\"hawaii_stations.csv\")\n",
    "df1 = pd.read_csv(\"hawaii_measurements.csv\")"
   ]
  },
  {
   "cell_type": "code",
   "execution_count": 22,
   "metadata": {},
   "outputs": [],
   "source": [
    "for station in df.columns:\n",
    "    if \"location\" in df.columns:\n",
    "        df= df.drop(['location'],axis=1).reset_index(drop=True)\n",
    "        df.fillna(df.mean(),inplace=True)\n",
    "        df.to_csv(\"clean_hawaii_stations\")"
   ]
  },
  {
   "cell_type": "code",
   "execution_count": 23,
   "metadata": {},
   "outputs": [],
   "source": [
    "for station in df1.columns:\n",
    "    if \"location\" in df.columns:\n",
    "        df= df.drop(['location'],axis=1).reset_index(drop=True)\n",
    "        df.fillna(df.mean(),inplace=True)\n",
    "        df.to_csv(\"clean_hawaii_measurements\")"
   ]
  },
  {
   "cell_type": "code",
   "execution_count": null,
   "metadata": {},
   "outputs": [],
   "source": []
  },
  {
   "cell_type": "code",
   "execution_count": null,
   "metadata": {},
   "outputs": [],
   "source": []
  }
 ],
 "metadata": {
  "kernelspec": {
   "display_name": "Python 3",
   "language": "python",
   "name": "python3"
  },
  "language_info": {
   "codemirror_mode": {
    "name": "ipython",
    "version": 3
   },
   "file_extension": ".py",
   "mimetype": "text/x-python",
   "name": "python",
   "nbconvert_exporter": "python",
   "pygments_lexer": "ipython3",
   "version": "3.6.4"
  }
 },
 "nbformat": 4,
 "nbformat_minor": 2
}
